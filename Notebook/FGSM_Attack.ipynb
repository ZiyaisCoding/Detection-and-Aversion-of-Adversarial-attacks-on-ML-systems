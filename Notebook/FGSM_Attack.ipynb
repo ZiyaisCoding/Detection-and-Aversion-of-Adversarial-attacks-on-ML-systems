{
  "cells": [
    {
      "cell_type": "code",
      "execution_count": null,
      "metadata": {
        "id": "_KRJ64L6YPpV",
        "trusted": true
      },
      "outputs": [],
      "source": [
        "import tensorflow as tf\n",
        "import os\n",
        "import numpy as np\n",
        "import csv\n",
        "import lpips\n",
        "from tensorflow.keras.applications import ResNet101\n",
        "from tensorflow.keras.applications.resnet import preprocess_input\n",
        "from tensorflow.keras.preprocessing import image\n",
        "from tensorflow.keras.applications.resnet import decode_predictions"
      ]
    },
    {
      "cell_type": "code",
      "execution_count": null,
      "metadata": {
        "id": "Nvbm3ATxYPpV",
        "trusted": true
      },
      "outputs": [],
      "source": [
        "# Configure parameters\n",
        "EPSILONS = [0, 2, 4, 8, 16, 32]  # Different perturbation strengths\n",
        "IMAGE_DIR = \"/kaggle/input/tiny-imagenet/tiny-imagenet-200/test/images\"\n",
        "RESULTS_FILE = \"attack_results.csv\"\n",
        "NUM_IMAGES = 20  # Adjust based on your needs"
      ]
    },
    {
      "cell_type": "code",
      "execution_count": null,
      "metadata": {
        "execution": {
          "iopub.status.busy": "2025-03-05T07:45:43.847118Z",
          "iopub.status.idle": "2025-03-05T07:45:43.847703Z",
          "shell.execute_reply": "2025-03-05T07:45:43.847466Z"
        },
        "id": "3xraxYN_YPpV",
        "trusted": true
      },
      "outputs": [],
      "source": [
        "# Initialize ResNet101\n",
        "model = ResNet101(weights='imagenet')\n",
        "input_size = (224, 224)"
      ]
    },
    {
      "cell_type": "code",
      "execution_count": null,
      "metadata": {
        "execution": {
          "iopub.execute_input": "2025-03-02T21:51:13.714417Z",
          "iopub.status.busy": "2025-03-02T21:51:13.7142Z",
          "iopub.status.idle": "2025-03-02T21:51:13.719804Z",
          "shell.execute_reply": "2025-03-02T21:51:13.719048Z",
          "shell.execute_reply.started": "2025-03-02T21:51:13.714399Z"
        },
        "id": "h-kMQAQsYPpW",
        "trusted": true
      },
      "outputs": [],
      "source": [
        "# Define reverse preprocessing for SSIM calculation\n",
        "def reverse_preprocess(adv_image):\n",
        "    mean = [103.939, 116.779, 123.68]\n",
        "    reversed_img = adv_image.copy()\n",
        "    reversed_img[..., 0] += mean[0]\n",
        "    reversed_img[..., 1] += mean[1]\n",
        "    reversed_img[..., 2] += mean[2]\n",
        "    reversed_img = reversed_img[..., ::-1]  # BGR to RGB\n",
        "    return np.clip(reversed_img, 0, 255).astype('uint8')\n",
        "\n",
        "# FGSM attack function\n",
        "def fgsm_attack(model, input_image, epsilon):\n",
        "    input_tensor = tf.convert_to_tensor(input_image)\n",
        "    with tf.GradientTape() as tape:\n",
        "        tape.watch(input_tensor)\n",
        "        prediction = model(input_tensor)\n",
        "        loss = tf.keras.losses.categorical_crossentropy(prediction, prediction)\n",
        "    gradient = tape.gradient(loss, input_tensor)\n",
        "    perturbation = epsilon * tf.sign(gradient)\n",
        "    return input_tensor + perturbation"
      ]
    },
    {
      "cell_type": "code",
      "execution_count": null,
      "metadata": {
        "id": "i2vEvgM5YPpW",
        "trusted": true
      },
      "outputs": [],
      "source": [
        "# Load LPIPS model (using AlexNet, but can also use 'vgg' or 'squeeze')\n",
        "lpips_model = tf_lpips.LPIPS('net-lin', 'alex')"
      ]
    },
    {
      "cell_type": "code",
      "execution_count": null,
      "metadata": {
        "id": "a0UdtziMYPpW",
        "trusted": true
      },
      "outputs": [],
      "source": [
        "# Compute LPIPS similarity\n",
        "# lpips_value = lpips_model(img1_torch, img2_torch)"
      ]
    },
    {
      "cell_type": "code",
      "execution_count": null,
      "metadata": {
        "_cell_guid": "b1076dfc-b9ad-4769-8c92-a6c4dae69d19",
        "_uuid": "8f2839f25d086af736a60e9eeb907d3b93b6e0e5",
        "execution": {
          "iopub.execute_input": "2025-03-02T22:10:11.975464Z",
          "iopub.status.busy": "2025-03-02T22:10:11.975121Z",
          "iopub.status.idle": "2025-03-02T22:12:05.651752Z",
          "shell.execute_reply": "2025-03-02T22:12:05.651085Z",
          "shell.execute_reply.started": "2025-03-02T22:10:11.975437Z"
        },
        "id": "GJDQ6CjRYPpX",
        "trusted": true
      },
      "outputs": [],
      "source": [
        "RESULTS_FILE = \"FGSM attacks.csv\"\n",
        "results = []\n",
        "image_files = [f for f in os.listdir(IMAGE_DIR) if f.endswith(\".JPEG\")][:NUM_IMAGES]\n",
        "\n",
        "for epsilon in EPSILONS:\n",
        "    for img_file in image_files:\n",
        "        try:\n",
        "            # Load and preprocess\n",
        "            img_path = os.path.join(IMAGE_DIR, img_file)\n",
        "            original, processed = preprocess_image(img_path)\n",
        "\n",
        "            # Generate adversarial\n",
        "            adversarial = fgsm_attack(model, processed, epsilon).numpy()\n",
        "            adversarial = np.clip(adversarial, -100.0, 150.0)\n",
        "\n",
        "            # Calculate metrics\n",
        "            adv_reversed = reverse_preprocess(adversarial[0])\n",
        "            ssim = tf.image.ssim(\n",
        "                tf.convert_to_tensor([original], tf.uint8),\n",
        "                tf.convert_to_tensor([adv_reversed], tf.uint8),\n",
        "                max_val=255\n",
        "            ).numpy()[0]\n",
        "\n",
        "            # Normalize images for LPIPS [-1, 1]\n",
        "            original_lpips = (original / 127.5) - 1.0\n",
        "            adversarial_lpips = (adv_reversed / 127.5) - 1.0\n",
        "\n",
        "            # Convert to TensorFlow tensors and add batch dimension\n",
        "            original_tf = tf.convert_to_tensor(original_lpips, dtype=tf.float32)\n",
        "            adversarial_tf = tf.convert_to_tensor(adversarial_lpips, dtype=tf.float32)\n",
        "            original_tf = tf.expand_dims(original_tf, axis=0)\n",
        "            adversarial_tf = tf.expand_dims(adversarial_tf, axis=0)\n",
        "\n",
        "            # Compute LPIPS similarity\n",
        "            lpips_value = lpips_model(original_tf, adversarial_tf).numpy()[0]\n",
        "\n",
        "            # Get predictions with confidence\n",
        "            clean_preds = model.predict(processed)\n",
        "            adv_preds = model.predict(adversarial)\n",
        "\n",
        "            # Decode top predictions\n",
        "            clean_top = decode_predictions(clean_preds, top=1)[0][0]\n",
        "            adv_top = decode_predictions(adv_preds, top=1)[0][0]\n",
        "\n",
        "            results.append({\n",
        "                'Image': img_file,\n",
        "                'Epsilon': epsilon,\n",
        "                'SSIM': ssim,\n",
        "                'LPIPS': lpips,\n",
        "                'CleanLabel': clean_top[1],  # Class label\n",
        "                'CleanConfidence': float(clean_top[2]),  # Confidence score\n",
        "                'AdvLabel': adv_top[1],\n",
        "                'AdvConfidence': float(adv_top[2]),\n",
        "                'Success': int(clean_top[1] != adv_top[1])\n",
        "            })\n",
        "\n",
        "        except Exception as e:\n",
        "            print(f\"Error with {img_file}: {str(e)}\")"
      ]
    },
    {
      "cell_type": "code",
      "execution_count": null,
      "metadata": {
        "execution": {
          "iopub.execute_input": "2025-03-02T22:12:05.65311Z",
          "iopub.status.busy": "2025-03-02T22:12:05.652811Z",
          "iopub.status.idle": "2025-03-02T22:12:05.660206Z",
          "shell.execute_reply": "2025-03-02T22:12:05.659248Z",
          "shell.execute_reply.started": "2025-03-02T22:12:05.653087Z"
        },
        "id": "30fKvnyCYPpX",
        "trusted": true
      },
      "outputs": [],
      "source": [
        "# Save to CSV with specified filename\n",
        "with open(RESULTS_FILE, 'w', newline='') as csvfile:\n",
        "    fieldnames = [\n",
        "        'Image', 'Epsilon', 'SSIM', 'LPIPS',\n",
        "        'CleanLabel', 'CleanConfidence',\n",
        "        'AdvLabel', 'AdvConfidence',\n",
        "        'Success'\n",
        "    ]\n",
        "    writer = csv.DictWriter(csvfile, fieldnames=fieldnames)\n",
        "    writer.writeheader()\n",
        "    writer.writerows(results)\n",
        "\n",
        "print(f\"FGSM attack results saved to {RESULTS_FILE}\")"
      ]
    },
    {
      "cell_type": "code",
      "execution_count": null,
      "metadata": {
        "id": "2u13AyzRYPpX",
        "trusted": true
      },
      "outputs": [],
      "source": [
        "# -*- coding: utf-8 -*-\n",
        "\"\"\"FGSM_Attack_Corrected\"\"\"\n",
        "\n",
        "import os\n",
        "import numpy as np\n",
        "import csv\n",
        "import tensorflow as tf\n",
        "import torch\n",
        "import lpips\n",
        "from tensorflow.keras.applications import ResNet101\n",
        "from tensorflow.keras.applications.resnet50 import preprocess_input, decode_predictions\n",
        "from tensorflow.keras.preprocessing import image\n",
        "\n",
        "# Configure parameters\n",
        "EPSILONS = [0, 2, 4, 8, 16, 32]  # Different perturbation strengths\n",
        "IMAGE_DIR = \"/kaggle/input/tiny-imagenet/tiny-imagenet-200/test/images\"\n",
        "RESULTS_FILE = \"FGSM_attack_results.csv\"\n",
        "NUM_IMAGES = 20  # Adjust based on your needs\n",
        "\n",
        "# Initialize ResNet101 model\n",
        "model = ResNet101(weights='imagenet')\n",
        "input_size = (224, 224)\n",
        "\n",
        "# Define image preprocessing function\n",
        "def preprocess_image(img_path):\n",
        "    img = image.load_img(img_path, target_size=input_size)\n",
        "    img_array = image.img_to_array(img)\n",
        "    img_array = np.expand_dims(img_array, axis=0)\n",
        "    return img_array, preprocess_input(img_array)\n",
        "\n",
        "# Reverse preprocessing for SSIM calculation\n",
        "def reverse_preprocess(adv_image):\n",
        "    mean = [103.939, 116.779, 123.68]\n",
        "    reversed_img = adv_image.copy()\n",
        "    reversed_img[..., 0] += mean[0]\n",
        "    reversed_img[..., 1] += mean[1]\n",
        "    reversed_img[..., 2] += mean[2]\n",
        "    reversed_img = reversed_img[..., ::-1]  # Convert BGR to RGB\n",
        "    return np.clip(reversed_img, 0, 255).astype('uint8')\n",
        "\n",
        "# FGSM attack function\n",
        "def fgsm_attack(model, input_image, true_label, epsilon):\n",
        "    input_tensor = tf.convert_to_tensor(input_image, dtype=tf.float32)\n",
        "    with tf.GradientTape() as tape:\n",
        "        tape.watch(input_tensor)\n",
        "        prediction = model(input_tensor)\n",
        "        loss = tf.keras.losses.sparse_categorical_crossentropy(true_label, prediction)\n",
        "    gradient = tape.gradient(loss, input_tensor)\n",
        "    perturbation = epsilon * tf.sign(gradient)\n",
        "    adversarial_example = input_tensor + perturbation\n",
        "    return tf.clip_by_value(adversarial_example, 0, 255).numpy()\n",
        "\n",
        "# Load LPIPS model\n",
        "lpips_model = lpips.LPIPS(net='alex')\n",
        "\n",
        "# Process images and generate adversarial examples\n",
        "results = []\n",
        "image_files = [f for f in os.listdir(IMAGE_DIR) if f.endswith(\".JPEG\")][:NUM_IMAGES]\n",
        "\n",
        "for epsilon in EPSILONS:\n",
        "    for img_file in image_files:\n",
        "        try:\n",
        "            # Load and preprocess image\n",
        "            img_path = os.path.join(IMAGE_DIR, img_file)\n",
        "            original, processed = preprocess_image(img_path)\n",
        "\n",
        "            # Get true label\n",
        "            clean_preds = model.predict(processed)\n",
        "            true_label = np.argmax(clean_preds)\n",
        "\n",
        "            # Generate adversarial image\n",
        "            adversarial = fgsm_attack(model, processed, true_label, epsilon)\n",
        "\n",
        "            # Reverse preprocess for SSIM\n",
        "            adv_reversed = reverse_preprocess(adversarial[0])\n",
        "            ssim = tf.image.ssim(\n",
        "                tf.convert_to_tensor(original, dtype=tf.uint8),\n",
        "                tf.convert_to_tensor(adv_reversed, dtype=tf.uint8),\n",
        "                max_val=255\n",
        "            ).numpy()[0]\n",
        "\n",
        "            # Normalize images for LPIPS\n",
        "            original_lpips = (original / 127.5) - 1.0\n",
        "            adversarial_lpips = (adv_reversed / 127.5) - 1.0\n",
        "\n",
        "            # Convert to PyTorch tensors\n",
        "            original_torch = torch.tensor(original_lpips, dtype=torch.float32).permute(0, 3, 1, 2)\n",
        "            adversarial_torch = torch.tensor(adversarial_lpips, dtype=torch.float32).permute(0, 3, 1, 2)\n",
        "\n",
        "            # Compute LPIPS similarity\n",
        "            lpips_value = lpips_model(original_torch, adversarial_torch).item()\n",
        "\n",
        "            # Get predictions for adversarial image\n",
        "            adv_preds = model.predict(adversarial)\n",
        "            clean_top = decode_predictions(clean_preds, top=1)[0][0]\n",
        "            adv_top = decode_predictions(adv_preds, top=1)[0][0]\n",
        "\n",
        "            # Store results\n",
        "            results.append({\n",
        "                'Image': img_file,\n",
        "                'Epsilon': epsilon,\n",
        "                'SSIM': ssim,\n",
        "                'LPIPS': lpips_value,\n",
        "                'CleanLabel': clean_top[1],\n",
        "                'CleanConfidence': float(clean_top[2]),\n",
        "                'AdvLabel': adv_top[1],\n",
        "                'AdvConfidence': float(adv_top[2]),\n",
        "                'Success': int(clean_top[1] != adv_top[1])\n",
        "            })\n",
        "\n",
        "        except Exception as e:\n",
        "            print(f\"Error processing {img_file}: {e}\")\n",
        "\n",
        "# Save results to CSV\n",
        "with open(RESULTS_FILE, 'w', newline='') as csvfile:\n",
        "    fieldnames = [\n",
        "        'Image', 'Epsilon', 'SSIM', 'LPIPS', 'CleanLabel', 'CleanConfidence',\n",
        "        'AdvLabel', 'AdvConfidence', 'Success'\n",
        "    ]\n",
        "    writer = csv.DictWriter(csvfile, fieldnames=fieldnames)\n",
        "    writer.writeheader()\n",
        "    writer.writerows(results)\n",
        "\n",
        "print(f\"FGSM attack results saved to {RESULTS_FILE}\")"
      ]
    }
  ],
  "metadata": {
    "colab": {
      "provenance": []
    },
    "kaggle": {
      "accelerator": "gpu",
      "dataSources": [
        {
          "datasetId": 6027308,
          "sourceId": 9828038,
          "sourceType": "datasetVersion"
        }
      ],
      "dockerImageVersionId": 30918,
      "isGpuEnabled": true,
      "isInternetEnabled": true,
      "language": "python",
      "sourceType": "notebook"
    },
    "kernelspec": {
      "display_name": "Python 3",
      "language": "python",
      "name": "python3"
    },
    "language_info": {
      "codemirror_mode": {
        "name": "ipython",
        "version": 3
      },
      "file_extension": ".py",
      "mimetype": "text/x-python",
      "name": "python",
      "nbconvert_exporter": "python",
      "pygments_lexer": "ipython3",
      "version": "3.10.12"
    }
  },
  "nbformat": 4,
  "nbformat_minor": 0
}
